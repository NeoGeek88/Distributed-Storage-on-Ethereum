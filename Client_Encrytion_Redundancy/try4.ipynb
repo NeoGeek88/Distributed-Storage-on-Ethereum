{
  "nbformat": 4,
  "nbformat_minor": 0,
  "metadata": {
    "colab": {
      "provenance": [],
      "authorship_tag": "ABX9TyMucAA46bBXig1/Q2S/lT6E",
      "include_colab_link": true
    },
    "kernelspec": {
      "name": "python3",
      "display_name": "Python 3"
    },
    "language_info": {
      "name": "python"
    }
  },
  "cells": [
    {
      "cell_type": "markdown",
      "metadata": {
        "id": "view-in-github",
        "colab_type": "text"
      },
      "source": [
        "<a href=\"https://colab.research.google.com/github/NeoGeek88/Distributed-Storage-on-Ethereum/blob/yoyostudy/Client_Encrytion_Redundancy/try4.ipynb\" target=\"_parent\"><img src=\"https://colab.research.google.com/assets/colab-badge.svg\" alt=\"Open In Colab\"/></a>"
      ]
    },
    {
      "cell_type": "code",
      "source": [
        "!pip3 install ethereum"
      ],
      "metadata": {
        "colab": {
          "base_uri": "https://localhost:8080/"
        },
        "id": "Ng6gTv9CtPXz",
        "outputId": "e06c950c-6059-4d25-ecb1-d08faf6d4685"
      },
      "execution_count": 1,
      "outputs": [
        {
          "output_type": "stream",
          "name": "stdout",
          "text": [
            "Looking in indexes: https://pypi.org/simple, https://us-python.pkg.dev/colab-wheels/public/simple/\n",
            "Collecting ethereum\n",
            "  Downloading ethereum-2.3.2.tar.gz (155 kB)\n",
            "\u001b[2K     \u001b[90m━━━━━━━━━━━━━━━━━━━━━━━━━━━━━━━━━━━━━━━\u001b[0m \u001b[32m155.6/155.6 KB\u001b[0m \u001b[31m3.4 MB/s\u001b[0m eta \u001b[36m0:00:00\u001b[0m\n",
            "\u001b[?25h  Preparing metadata (setup.py) ... \u001b[?25l\u001b[?25hdone\n",
            "Collecting coincurve>=7.0.0\n",
            "  Downloading coincurve-18.0.0-cp39-cp39-manylinux_2_17_x86_64.manylinux2014_x86_64.whl (1.4 MB)\n",
            "\u001b[2K     \u001b[90m━━━━━━━━━━━━━━━━━━━━━━━━━━━━━━━━━━━━━━━━\u001b[0m \u001b[32m1.4/1.4 MB\u001b[0m \u001b[31m21.3 MB/s\u001b[0m eta \u001b[36m0:00:00\u001b[0m\n",
            "\u001b[?25hRequirement already satisfied: future in /usr/local/lib/python3.9/dist-packages (from ethereum) (0.18.3)\n",
            "Collecting pbkdf2\n",
            "  Downloading pbkdf2-1.3.tar.gz (6.4 kB)\n",
            "  Preparing metadata (setup.py) ... \u001b[?25l\u001b[?25hdone\n",
            "Collecting py_ecc\n",
            "  Downloading py_ecc-6.0.0-py3-none-any.whl (43 kB)\n",
            "\u001b[2K     \u001b[90m━━━━━━━━━━━━━━━━━━━━━━━━━━━━━━━━━━━━━━━━\u001b[0m \u001b[32m43.4/43.4 KB\u001b[0m \u001b[31m3.2 MB/s\u001b[0m eta \u001b[36m0:00:00\u001b[0m\n",
            "\u001b[?25hCollecting pyethash<1.0.0,>=0.1.27\n",
            "  Downloading pyethash-0.1.27.tar.gz (38 kB)\n",
            "  Preparing metadata (setup.py) ... \u001b[?25l\u001b[?25hdone\n",
            "Collecting pycryptodome>=3.4.7\n",
            "  Downloading pycryptodome-3.17-cp35-abi3-manylinux_2_17_x86_64.manylinux2014_x86_64.whl (2.1 MB)\n",
            "\u001b[2K     \u001b[90m━━━━━━━━━━━━━━━━━━━━━━━━━━━━━━━━━━━━━━━━\u001b[0m \u001b[32m2.1/2.1 MB\u001b[0m \u001b[31m12.6 MB/s\u001b[0m eta \u001b[36m0:00:00\u001b[0m\n",
            "\u001b[?25hCollecting pysha3>=1.0.1\n",
            "  Downloading pysha3-1.0.2.tar.gz (829 kB)\n",
            "\u001b[2K     \u001b[90m━━━━━━━━━━━━━━━━━━━━━━━━━━━━━━━━━━━━━━\u001b[0m \u001b[32m829.2/829.2 KB\u001b[0m \u001b[31m16.3 MB/s\u001b[0m eta \u001b[36m0:00:00\u001b[0m\n",
            "\u001b[?25h  Preparing metadata (setup.py) ... \u001b[?25l\u001b[?25hdone\n",
            "Requirement already satisfied: PyYAML in /usr/local/lib/python3.9/dist-packages (from ethereum) (6.0)\n",
            "Collecting repoze.lru\n",
            "  Downloading repoze.lru-0.7-py3-none-any.whl (10 kB)\n",
            "Collecting rlp<2.0.0,>=1.0.1\n",
            "  Downloading rlp-1.2.0-py2.py3-none-any.whl (19 kB)\n",
            "Collecting scrypt\n",
            "  Downloading scrypt-0.8.20-cp39-cp39-manylinux_2_17_x86_64.manylinux2014_x86_64.whl (1.2 MB)\n",
            "\u001b[2K     \u001b[90m━━━━━━━━━━━━━━━━━━━━━━━━━━━━━━━━━━━━━━━━\u001b[0m \u001b[32m1.2/1.2 MB\u001b[0m \u001b[31m45.7 MB/s\u001b[0m eta \u001b[36m0:00:00\u001b[0m\n",
            "\u001b[?25hCollecting asn1crypto\n",
            "  Downloading asn1crypto-1.5.1-py2.py3-none-any.whl (105 kB)\n",
            "\u001b[2K     \u001b[90m━━━━━━━━━━━━━━━━━━━━━━━━━━━━━━━━━━━━━━━\u001b[0m \u001b[32m105.0/105.0 KB\u001b[0m \u001b[31m8.5 MB/s\u001b[0m eta \u001b[36m0:00:00\u001b[0m\n",
            "\u001b[?25hRequirement already satisfied: cffi>=1.3.0 in /usr/local/lib/python3.9/dist-packages (from coincurve>=7.0.0->ethereum) (1.15.1)\n",
            "Collecting eth-utils<2,>=1.0.2\n",
            "  Downloading eth_utils-1.10.0-py3-none-any.whl (24 kB)\n",
            "Requirement already satisfied: cached-property<2,>=1.5.1 in /usr/local/lib/python3.9/dist-packages (from py_ecc->ethereum) (1.5.2)\n",
            "Collecting py_ecc\n",
            "  Downloading py_ecc-5.2.0-py3-none-any.whl (43 kB)\n",
            "\u001b[2K     \u001b[90m━━━━━━━━━━━━━━━━━━━━━━━━━━━━━━━━━━━━━━━━\u001b[0m \u001b[32m43.4/43.4 KB\u001b[0m \u001b[31m3.5 MB/s\u001b[0m eta \u001b[36m0:00:00\u001b[0m\n",
            "\u001b[?25hCollecting mypy-extensions>=0.4.1\n",
            "  Downloading mypy_extensions-1.0.0-py3-none-any.whl (4.7 kB)\n",
            "Collecting eth-typing<3.0.0,>=2.1.0\n",
            "  Downloading eth_typing-2.3.0-py3-none-any.whl (6.2 kB)\n",
            "Requirement already satisfied: pycparser in /usr/local/lib/python3.9/dist-packages (from cffi>=1.3.0->coincurve>=7.0.0->ethereum) (2.21)\n",
            "Collecting eth-hash<0.4.0,>=0.3.1\n",
            "  Downloading eth_hash-0.3.3-py3-none-any.whl (8.9 kB)\n",
            "Collecting cytoolz<1.0.0,>=0.10.1\n",
            "  Downloading cytoolz-0.12.1-cp39-cp39-manylinux_2_17_x86_64.manylinux2014_x86_64.whl (1.8 MB)\n",
            "\u001b[2K     \u001b[90m━━━━━━━━━━━━━━━━━━━━━━━━━━━━━━━━━━━━━━━━\u001b[0m \u001b[32m1.8/1.8 MB\u001b[0m \u001b[31m51.2 MB/s\u001b[0m eta \u001b[36m0:00:00\u001b[0m\n",
            "\u001b[?25hRequirement already satisfied: toolz>=0.8.0 in /usr/local/lib/python3.9/dist-packages (from cytoolz<1.0.0,>=0.10.1->eth-utils<2,>=1.0.2->rlp<2.0.0,>=1.0.1->ethereum) (0.12.0)\n",
            "Building wheels for collected packages: ethereum, pyethash, pysha3, pbkdf2\n",
            "  Building wheel for ethereum (setup.py) ... \u001b[?25l\u001b[?25hdone\n",
            "  Created wheel for ethereum: filename=ethereum-2.3.2-py3-none-any.whl size=183741 sha256=cb4eadd4a0406099cfe618c6cab30b907981d2b7d401e19c9002f6616e98cb24\n",
            "  Stored in directory: /root/.cache/pip/wheels/03/c5/98/ac294085f52d39f69cdd3505b41234f45af7bf2338033d4736\n",
            "  Building wheel for pyethash (setup.py) ... \u001b[?25l\u001b[?25hdone\n",
            "  Created wheel for pyethash: filename=pyethash-0.1.27-cp39-cp39-linux_x86_64.whl size=56463 sha256=e4c2a74bb7c5a01f164922d4bd682e9eeed6a704633d910698f062bad55b7410\n",
            "  Stored in directory: /root/.cache/pip/wheels/4c/18/f0/cd1732ca0b05b39f2bcdf668b335811e89e74f46e8ca19efaf\n",
            "  Building wheel for pysha3 (setup.py) ... \u001b[?25l\u001b[?25hdone\n",
            "  Created wheel for pysha3: filename=pysha3-1.0.2-cp39-cp39-linux_x86_64.whl size=152331 sha256=ecd80ad68c30fb7ef98889889a61232dfed825f44b41e01de15938be622d0688\n",
            "  Stored in directory: /root/.cache/pip/wheels/17/9d/00/86e22a32b0109bd3c8797adf13a74427aa38e6ad1135633d50\n",
            "  Building wheel for pbkdf2 (setup.py) ... \u001b[?25l\u001b[?25hdone\n",
            "  Created wheel for pbkdf2: filename=pbkdf2-1.3-py3-none-any.whl size=5101 sha256=566a610afd3a863d6458fd6763fd26f3f89a2629c64dc4f2c116e2f885da909a\n",
            "  Stored in directory: /root/.cache/pip/wheels/25/d2/61/653b7e13d58b8a1ea237868585640fcd626f24a1fdfe3f74d0\n",
            "Successfully built ethereum pyethash pysha3 pbkdf2\n",
            "Installing collected packages: scrypt, repoze.lru, pysha3, pyethash, pbkdf2, asn1crypto, pycryptodome, mypy-extensions, eth-typing, eth-hash, cytoolz, eth-utils, coincurve, rlp, py_ecc, ethereum\n",
            "Successfully installed asn1crypto-1.5.1 coincurve-18.0.0 cytoolz-0.12.1 eth-hash-0.3.3 eth-typing-2.3.0 eth-utils-1.10.0 ethereum-2.3.2 mypy-extensions-1.0.0 pbkdf2-1.3 py_ecc-5.2.0 pycryptodome-3.17 pyethash-0.1.27 pysha3-1.0.2 repoze.lru-0.7 rlp-1.2.0 scrypt-0.8.20\n"
          ]
        }
      ]
    },
    {
      "cell_type": "code",
      "source": [],
      "metadata": {
        "id": "XhavdRa5t3DZ"
      },
      "execution_count": null,
      "outputs": []
    },
    {
      "cell_type": "code",
      "execution_count": 2,
      "metadata": {
        "id": "XRPLTdpXsfDs"
      },
      "outputs": [],
      "source": [
        "import os\n",
        "from ethereum.utils import sha3\n",
        "from ethereum import utils"
      ]
    }
  ]
}