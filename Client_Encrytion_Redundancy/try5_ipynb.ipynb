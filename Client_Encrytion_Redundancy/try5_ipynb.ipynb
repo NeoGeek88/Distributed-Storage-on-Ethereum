{
  "nbformat": 4,
  "nbformat_minor": 0,
  "metadata": {
    "colab": {
      "provenance": [],
      "authorship_tag": "ABX9TyPd4r8taxbHRpAvZsito8Q7",
      "include_colab_link": true
    },
    "kernelspec": {
      "name": "python3",
      "display_name": "Python 3"
    },
    "language_info": {
      "name": "python"
    }
  },
  "cells": [
    {
      "cell_type": "markdown",
      "metadata": {
        "id": "view-in-github",
        "colab_type": "text"
      },
      "source": [
        "<a href=\"https://colab.research.google.com/github/NeoGeek88/Distributed-Storage-on-Ethereum/blob/yoyostudy/Client_Encrytion_Redundancy/try5_ipynb.ipynb\" target=\"_parent\"><img src=\"https://colab.research.google.com/assets/colab-badge.svg\" alt=\"Open In Colab\"/></a>"
      ]
    },
    {
      "cell_type": "code",
      "source": [
        "!pip3 install eth-keys\n",
        "!pip3 install eth-utils"
      ],
      "metadata": {
        "colab": {
          "base_uri": "https://localhost:8080/"
        },
        "id": "Ng6gTv9CtPXz",
        "outputId": "7bcfa95a-041e-404b-9782-0d0cffb70a4c"
      },
      "execution_count": null,
      "outputs": [
        {
          "output_type": "stream",
          "name": "stdout",
          "text": [
            "Looking in indexes: https://pypi.org/simple, https://us-python.pkg.dev/colab-wheels/public/simple/\n",
            "Requirement already satisfied: eth-keys in /usr/local/lib/python3.9/dist-packages (0.4.0)\n",
            "Requirement already satisfied: eth-typing<4,>=3.0.0 in /usr/local/lib/python3.9/dist-packages (from eth-keys) (3.3.0)\n",
            "Requirement already satisfied: eth-utils<3.0.0,>=2.0.0 in /usr/local/lib/python3.9/dist-packages (from eth-keys) (2.1.0)\n",
            "Requirement already satisfied: eth-hash>=0.3.1 in /usr/local/lib/python3.9/dist-packages (from eth-utils<3.0.0,>=2.0.0->eth-keys) (0.5.1)\n",
            "Requirement already satisfied: cytoolz>=0.10.1 in /usr/local/lib/python3.9/dist-packages (from eth-utils<3.0.0,>=2.0.0->eth-keys) (0.12.1)\n",
            "Requirement already satisfied: toolz>=0.8.0 in /usr/local/lib/python3.9/dist-packages (from cytoolz>=0.10.1->eth-utils<3.0.0,>=2.0.0->eth-keys) (0.12.0)\n",
            "Looking in indexes: https://pypi.org/simple, https://us-python.pkg.dev/colab-wheels/public/simple/\n",
            "Requirement already satisfied: eth-utils in /usr/local/lib/python3.9/dist-packages (2.1.0)\n",
            "Requirement already satisfied: eth-hash>=0.3.1 in /usr/local/lib/python3.9/dist-packages (from eth-utils) (0.5.1)\n",
            "Requirement already satisfied: eth-typing>=3.0.0 in /usr/local/lib/python3.9/dist-packages (from eth-utils) (3.3.0)\n",
            "Requirement already satisfied: cytoolz>=0.10.1 in /usr/local/lib/python3.9/dist-packages (from eth-utils) (0.12.1)\n",
            "Requirement already satisfied: toolz>=0.8.0 in /usr/local/lib/python3.9/dist-packages (from cytoolz>=0.10.1->eth-utils) (0.12.0)\n"
          ]
        }
      ]
    },
    {
      "cell_type": "code",
      "execution_count": null,
      "metadata": {
        "id": "XRPLTdpXsfDs"
      },
      "outputs": [],
      "source": [
        "from eth_keys import keys\n",
        "from eth_utils import keccak, encode_hex, decode_hex\n",
        "from eth_utils import to_checksum_address"
      ]
    },
    {
      "cell_type": "markdown",
      "source": [
        "Generate Ethereum key pair: Public Key, Private Key, Public Address and verify it."
      ],
      "metadata": {
        "id": "9_fUJg6KuHfh"
      }
    },
    {
      "cell_type": "code",
      "source": [
        "def gen_eth_private_key():\n",
        "  \"\"\"\n",
        "  This function is to generate ethereum private key\n",
        "  \"\"\"\n",
        "  private_key = ECC.generate(curve='P-256')\n",
        "  private_key_hex = private_key.export_key(format='DER', use_pkcs8=False).hex()[:64]\n",
        "  print(\"Private key: \", private_key_hex)\n",
        "  return private_key"
      ],
      "metadata": {
        "id": "8Z3cVcVLuGtU"
      },
      "execution_count": null,
      "outputs": []
    },
    {
      "cell_type": "code",
      "source": [
        "def gen_eth_public_key(private_key):\n",
        "  \"\"\"\n",
        "  This function is to generate ethereum public key given a private key\n",
        "  \"\"\"\n",
        "  private_key = keys.PrivateKey(bytes.fromhex(private_key[2:]))\n",
        "  public_key = private_key.public_key\n",
        "  return public_key\n"
      ],
      "metadata": {
        "id": "73U1BtmZuwi6"
      },
      "execution_count": null,
      "outputs": []
    },
    {
      "cell_type": "code",
      "source": [
        "def gen_eth_public_address(public_key):\n",
        "  \"\"\"\n",
        "  This function is used to generate the ethereum public address based on its public key\n",
        "  \"\"\"\n",
        "  # Step 1: Convert the public key to uncompressed format\n",
        "  uncompressed_public_key = public_key.to_bytes()\n",
        "  # Step 2: Hash the uncompressed public key using Keccak-256\n",
        "  hash_value = keccak(uncompressed_public_key)\n",
        "  # Step 3: Take the last 20 bytes of the hash value to get the Ethereum public address\n",
        "  public_address = encode_hex(hash_value[-20:])\n",
        "  checksum_address = to_checksum_address(public_address)\n",
        "  return checksum_address"
      ],
      "metadata": {
        "id": "jPTJwk8HuyCS"
      },
      "execution_count": null,
      "outputs": []
    },
    {
      "cell_type": "code",
      "source": [
        "def varify_eth_keypair(given_private_key, given_public_addr):\n",
        "  \"\"\"\n",
        "  This function is used to verify whether the \n",
        "  (public address, private key) is a valid pair in ethereum.\n",
        "  \"\"\"\n",
        "  public_key = gen_eth_public_key(given_private_key)\n",
        "  public_addr = gen_eth_public_address(public_key)\n",
        "  print(public_addr == given_public_addr)"
      ],
      "metadata": {
        "id": "eVbN6hRHuz46"
      },
      "execution_count": null,
      "outputs": []
    },
    {
      "cell_type": "markdown",
      "source": [
        "Obtain the shared secret using the receiver's public key and the sender's private key"
      ],
      "metadata": {
        "id": "a1ZMa7phvsyJ"
      }
    },
    {
      "cell_type": "code",
      "source": [
        "!pip3 install pycryptodome\n",
        "!pip3 install py_ecc\n",
        "!pip3 install ecdsa"
      ],
      "metadata": {
        "colab": {
          "base_uri": "https://localhost:8080/"
        },
        "id": "5I4uALegv8kz",
        "outputId": "b27ee2d5-58cc-41ce-bfa8-fcb6de4a78d4"
      },
      "execution_count": null,
      "outputs": [
        {
          "output_type": "stream",
          "name": "stdout",
          "text": [
            "Looking in indexes: https://pypi.org/simple, https://us-python.pkg.dev/colab-wheels/public/simple/\n",
            "Requirement already satisfied: pycryptodome in /usr/local/lib/python3.9/dist-packages (3.17)\n",
            "Looking in indexes: https://pypi.org/simple, https://us-python.pkg.dev/colab-wheels/public/simple/\n",
            "Requirement already satisfied: py_ecc in /usr/local/lib/python3.9/dist-packages (6.0.0)\n",
            "Requirement already satisfied: mypy-extensions>=0.4.1 in /usr/local/lib/python3.9/dist-packages (from py_ecc) (1.0.0)\n",
            "Requirement already satisfied: cached-property<2,>=1.5.1 in /usr/local/lib/python3.9/dist-packages (from py_ecc) (1.5.2)\n",
            "Requirement already satisfied: eth-typing<4,>=3.0.0 in /usr/local/lib/python3.9/dist-packages (from py_ecc) (3.3.0)\n",
            "Requirement already satisfied: eth-utils<3,>=2.0.0 in /usr/local/lib/python3.9/dist-packages (from py_ecc) (2.1.0)\n",
            "Requirement already satisfied: eth-hash>=0.3.1 in /usr/local/lib/python3.9/dist-packages (from eth-utils<3,>=2.0.0->py_ecc) (0.5.1)\n",
            "Requirement already satisfied: cytoolz>=0.10.1 in /usr/local/lib/python3.9/dist-packages (from eth-utils<3,>=2.0.0->py_ecc) (0.12.1)\n",
            "Requirement already satisfied: toolz>=0.8.0 in /usr/local/lib/python3.9/dist-packages (from cytoolz>=0.10.1->eth-utils<3,>=2.0.0->py_ecc) (0.12.0)\n",
            "Looking in indexes: https://pypi.org/simple, https://us-python.pkg.dev/colab-wheels/public/simple/\n",
            "Requirement already satisfied: ecdsa in /usr/local/lib/python3.9/dist-packages (0.18.0)\n",
            "Requirement already satisfied: six>=1.9.0 in /usr/local/lib/python3.9/dist-packages (from ecdsa) (1.16.0)\n"
          ]
        }
      ]
    },
    {
      "cell_type": "code",
      "source": [
        "from Crypto.PublicKey import ECC\n",
        "from py_ecc import optimized_bls12_381 as b\n",
        "from ecdsa import SigningKey, SECP256k1, VerifyingKey\n",
        "from ecdsa.ellipticcurve import Point"
      ],
      "metadata": {
        "id": "mOC7WkXZv0LY"
      },
      "execution_count": null,
      "outputs": []
    },
    {
      "cell_type": "code",
      "source": [
        "def gen_shared_secret(sender_sk_hex, receiver_pk_hex):\n",
        "    \"\"\"\n",
        "    This function is to generate a shared secret between the sender and the receiver using the sender's secret key and the receiver's public key\n",
        "    \"\"\"\n",
        "    # Convert the sender's secret key and receiver's public key from hex to int\n",
        "    sender_sk_int = int(sender_sk_hex, 16)\n",
        "    receiver_pk_int = int(receiver_pk_hex, 16)\n",
        "\n",
        "    # Create SigningKey and VerifyingKey objects\n",
        "    sender_sk = SigningKey.from_secret_exponent(sender_sk_int, curve=SECP256k1)\n",
        "    receiver_pk = VerifyingKey.from_string(receiver_pk_int.to_bytes(64, byteorder='big'), curve=SECP256k1)\n",
        "\n",
        "    # Get the elliptic curve point of the receiver's public key\n",
        "    receiver_pk_point = Point(SECP256k1.curve, receiver_pk.pubkey.point.x(), receiver_pk.pubkey.point.y())\n",
        "\n",
        "    # Calculate the shared secret point by multiplying the sender's secret key with the receiver's public key point\n",
        "    shared_secret_point = sender_sk.privkey.secret_multiplier * receiver_pk_point\n",
        "\n",
        "    # Convert the x-coordinate of the shared secret point to bytes\n",
        "    shared_secret_bytes = shared_secret_point.x().to_bytes(32, byteorder='big')\n",
        "\n",
        "    return shared_secret_bytes\n"
      ],
      "metadata": {
        "id": "UB1UtjzLvxbb"
      },
      "execution_count": null,
      "outputs": []
    },
    {
      "cell_type": "code",
      "source": [
        "def test_shared_secret(sender_pk, sender_sk, receiver_pk, receiver_sk):\n",
        "  print( gen_shared_secret(sender_sk, receiver_pk) == gen_shared_secret(receiver_sk, sender_pk))\n",
        "  "
      ],
      "metadata": {
        "id": "laDdN0jZwJm7"
      },
      "execution_count": null,
      "outputs": []
    },
    {
      "cell_type": "markdown",
      "source": [
        "Generate AES encryption key and MAC key based on the shared secret"
      ],
      "metadata": {
        "id": "GTbuyjwKybAz"
      }
    },
    {
      "cell_type": "code",
      "source": [
        "!pip3 install cryptography"
      ],
      "metadata": {
        "id": "y6UcXdSB0J_l",
        "colab": {
          "base_uri": "https://localhost:8080/"
        },
        "outputId": "c465c751-5ef5-4ac6-a148-615cf39e6ef5"
      },
      "execution_count": null,
      "outputs": [
        {
          "output_type": "stream",
          "name": "stdout",
          "text": [
            "Looking in indexes: https://pypi.org/simple, https://us-python.pkg.dev/colab-wheels/public/simple/\n",
            "Requirement already satisfied: cryptography in /usr/local/lib/python3.9/dist-packages (39.0.2)\n",
            "Requirement already satisfied: cffi>=1.12 in /usr/local/lib/python3.9/dist-packages (from cryptography) (1.15.1)\n",
            "Requirement already satisfied: pycparser in /usr/local/lib/python3.9/dist-packages (from cffi>=1.12->cryptography) (2.21)\n"
          ]
        }
      ]
    },
    {
      "cell_type": "code",
      "source": [
        "from cryptography.hazmat.primitives.kdf.hkdf import HKDF\n",
        "from cryptography.hazmat.primitives import hashes\n",
        "import os"
      ],
      "metadata": {
        "id": "gn28KVPB0BSN"
      },
      "execution_count": null,
      "outputs": []
    },
    {
      "cell_type": "code",
      "source": [
        "def gen_aes_mac_key(shared_secret):\n",
        "  \"\"\"\n",
        "  This function is to generate the aes encryption key and the mac key using the shared secret\n",
        "  Method:\n",
        "    KDF\n",
        "  Parameter: \n",
        "    shared_secret 32 bytes (256 bit)\n",
        "  Returns:\n",
        "    aes_key: 32 bytes\n",
        "    mac_key: 32 bytes\n",
        "  \"\"\"\n",
        "  # Derive encryption and MAC keys using HKDF\n",
        "  kdf = HKDF(\n",
        "      algorithm=hashes.SHA256(),\n",
        "      length=64,  # Total length of the derived keys (in bytes)\n",
        "      salt=None,\n",
        "      info=b'my key derivation info',\n",
        "  )\n",
        "\n",
        "  # Generate encryption and MAC keys\n",
        "  derived_key = kdf.derive(shared_secret)\n",
        "  aes_key = derived_key[:32]  # 256-bit key for encryption\n",
        "  mac_key = derived_key[32:]  # 256-bit key for message authentication code (MAC)\n",
        "  return aes_key, mac_key"
      ],
      "metadata": {
        "id": "cFmeKG2dy06N"
      },
      "execution_count": null,
      "outputs": []
    },
    {
      "cell_type": "markdown",
      "source": [
        "Encrypt the ata chunk usinig symmetric encryption, the encryption key is the aes key I generated by the shared secret"
      ],
      "metadata": {
        "id": "BGrtdXZE1UTl"
      }
    },
    {
      "cell_type": "code",
      "source": [
        "from cryptography.hazmat.primitives.ciphers import Cipher, algorithms, modes\n",
        "from cryptography.hazmat.backends import default_backend"
      ],
      "metadata": {
        "id": "tz9NeViy1bdt"
      },
      "execution_count": null,
      "outputs": []
    },
    {
      "cell_type": "code",
      "source": [
        "def aes_enc(chunk, aes_key):\n",
        "    \"\"\"\n",
        "    This function is to encrypt the data chunk using the 256 bit aes_key\n",
        "    Method:\n",
        "      CBC-AES block cipher + #PKCS#7 padding + 16 zero bytes IV\n",
        "    Parameters:\n",
        "      chunk \n",
        "      aes_key 256 bit\n",
        "    Returns:\n",
        "      enc_chunk (chunk of padded size)\n",
        "    \"\"\"\n",
        "    backend = default_backend()\n",
        "    iv = bytes(16)  # use a zero byte IV\n",
        "    cipher = Cipher(algorithms.AES(aes_key), modes.CBC(iv), backend=backend)\n",
        "    encryptor = cipher.encryptor()\n",
        "    # apply PKCS#7 padding to the plaintext data\n",
        "    padded_chunk = chunk + (16 - len(chunk) % 16) * chr(16 - len(chunk) % 16).encode()\n",
        "    enc_chunk = encryptor.update(padded_chunk) + encryptor.finalize()\n",
        "    return enc_chunk  # return the encrypted data only\n"
      ],
      "metadata": {
        "id": "O1fP54GA0nMM"
      },
      "execution_count": null,
      "outputs": []
    },
    {
      "cell_type": "code",
      "source": [
        "def aes_dec(enc_chunk, aes_key):\n",
        "  \"\"\"\n",
        "  This function is to decrypt the data chunk using the 256 bit aes_key\n",
        "  Method:\n",
        "    CBC-AES block cipher + #PKCS#7 padding + 16 zero bytes IV\n",
        "  Parameters:\n",
        "    enc_chunk (chunk of padded size)\n",
        "    aes_key 256 bit\n",
        "  Returns:\n",
        "    plaintext: original chunk data (size = the original chunk data)\n",
        "  \"\"\"\n",
        "  backend = default_backend()\n",
        "  iv = bytes(16)  # use a zero byte IV\n",
        "  cipher = Cipher(algorithms.AES(aes_key), modes.CBC(iv), backend=backend)\n",
        "  decryptor = cipher.decryptor()\n",
        "  # decrypt the ciphertext and remove any added padding\n",
        "  padded_plaintext = decryptor.update(enc_chunk) + decryptor.finalize()\n",
        "  plaintext = padded_plaintext[:-padded_plaintext[-1]]\n",
        "  return plaintext"
      ],
      "metadata": {
        "id": "q3G07ogS109j"
      },
      "execution_count": null,
      "outputs": []
    },
    {
      "cell_type": "code",
      "source": [
        "def test_aes_encryption(chunk, aes_key):\n",
        "  enc_chunk = aes_enc(chunk, aes_key)\n",
        "  dec_chunk = aes_dec(enc_chunk, aes_key)\n",
        "  print(dec_chunk == chunk)"
      ],
      "metadata": {
        "id": "drB7gsYg2oNn"
      },
      "execution_count": null,
      "outputs": []
    },
    {
      "cell_type": "markdown",
      "source": [
        "Generation and Verification of MAC tag"
      ],
      "metadata": {
        "id": "ldozZPzj7vOf"
      }
    },
    {
      "cell_type": "code",
      "source": [
        "import hmac"
      ],
      "metadata": {
        "id": "xWIeENy07y_y"
      },
      "execution_count": null,
      "outputs": []
    },
    {
      "cell_type": "code",
      "source": [
        "def gen_mac_tag(message, mac_key):\n",
        "  \"\"\"\n",
        "  This function is to generate mac tag for message integrity.\n",
        "  More precisely, we need to check the encyrpted data is tampered or not during communication\n",
        "  In this case, we can use mac tag and verification funciton to check\n",
        "  Method:\n",
        "    HAMC-SHA256\n",
        "  Parameters:\n",
        "     message \n",
        "     mac_key 32bytes\n",
        "  Returns:\n",
        "     mac_tag 32bytes\n",
        "  \"\"\"\n",
        "  mac = hmac.new(mac_key, msg=message, digestmod=\"sha256\")\n",
        "  mac_tag = mac.digest()\n",
        "  return mac_tag"
      ],
      "metadata": {
        "id": "-5DD7xR272ot"
      },
      "execution_count": null,
      "outputs": []
    },
    {
      "cell_type": "code",
      "source": [
        "def ver_mac_tag(message, mac_tag, mac_key):\n",
        "  \"\"\"\n",
        "  This function is to verify the mac tag for message integrity\n",
        "  Method:\n",
        "    HAMC-SHA256\n",
        "  Parameters:\n",
        "     message \n",
        "     mac_tag 32bytes\n",
        "  Returns:\n",
        "     mac_key 32bytes\n",
        "  \"\"\"\n",
        "  new_mac_tag = gen_mac_tag(message, mac_key)\n",
        "  return hmac.compare_digest(mac_tag, new_mac_tag)"
      ],
      "metadata": {
        "id": "BjU-QC9z8bkv"
      },
      "execution_count": null,
      "outputs": []
    },
    {
      "cell_type": "code",
      "source": [
        "def test_mac(enc_chunk, mac_key):\n",
        "  old_mac_tag = gen_mac_tag(enc_chunk, mac_key)\n",
        "  print(ver_mac_tag(enc_chunk, old_mac_tag, mac_key))"
      ],
      "metadata": {
        "id": "Ls2zKfMh8qrH"
      },
      "execution_count": null,
      "outputs": []
    },
    {
      "cell_type": "markdown",
      "source": [
        "Reed-Solomon Redundancy\n"
      ],
      "metadata": {
        "id": "nbr6qquf9eri"
      }
    },
    {
      "cell_type": "code",
      "source": [
        "!pip3 install reedsolo"
      ],
      "metadata": {
        "colab": {
          "base_uri": "https://localhost:8080/"
        },
        "id": "h9l7BwA6-yJP",
        "outputId": "862f8d64-397d-4f93-f052-026eefa32d60"
      },
      "execution_count": null,
      "outputs": [
        {
          "output_type": "stream",
          "name": "stdout",
          "text": [
            "Looking in indexes: https://pypi.org/simple, https://us-python.pkg.dev/colab-wheels/public/simple/\n",
            "Collecting reedsolo\n",
            "  Downloading reedsolo-1.7.0-py3-none-any.whl (32 kB)\n",
            "Installing collected packages: reedsolo\n",
            "Successfully installed reedsolo-1.7.0\n"
          ]
        }
      ]
    },
    {
      "cell_type": "code",
      "source": [
        "from reedsolo import RSCodec"
      ],
      "metadata": {
        "id": "xG4v_3id-x-V"
      },
      "execution_count": null,
      "outputs": []
    },
    {
      "cell_type": "code",
      "source": [
        "# Create a test file with a size of 1MB\n",
        "import os\n",
        "\n",
        "chunk_size = 256 * 1024  # 256KB\n",
        "num_chunks = 4\n",
        "filename = 'test_file.bin'\n",
        "\n",
        "with open(filename, 'wb') as f:\n",
        "    for i in range(num_chunks):\n",
        "        chunk = os.urandom(chunk_size)\n",
        "        f.write(chunk)\n"
      ],
      "metadata": {
        "id": "fKCIlnWJrn4P"
      },
      "execution_count": null,
      "outputs": []
    },
    {
      "cell_type": "code",
      "source": [
        "def split_data(data, block_size):\n",
        "    \"\"\"Split data into fixed-size blocks\"\"\"\n",
        "    return [data[i:i+block_size] for i in range(0, len(data), block_size)]\n",
        "\n",
        "from reedsolo import RSCodec\n",
        "\n",
        "# Define the number of data chunks\n",
        "n = 4\n",
        "\n",
        "# Define the number of parity chunks\n",
        "m = 5\n",
        "\n",
        "# Define the size of each data chunk in bytes\n",
        "chunk_size = 256 * 1024\n",
        "\n",
        "# Define the number of parity symbols\n",
        "ecc_symbols = m - n\n",
        "\n",
        "# Initialize a Reed-Solomon codec with the specified number of parity symbols\n",
        "rs = RSCodec(ecc_symbols)\n",
        "\n",
        "# Read the input file into memory\n",
        "with open('test_file.bin', 'rb') as f:\n",
        "    data = f.read()\n",
        "\n",
        "# Pad the data to a multiple of the chunk size\n",
        "#data = pad_data(data, chunk_size * n)\n",
        "\n",
        "# Split the data into n chunks\n",
        "data_chunks = split_data(data, chunk_size)\n",
        "\n",
        "# Encode each data chunk using Reed-Solomon error correction\n",
        "encoded_chunks = []\n",
        "for chunk in data_chunks:\n",
        "    encoded_chunk = rs.encode(chunk)\n",
        "    encoded_chunks.append(encoded_chunk)\n",
        "print(len(encoded_chunks))\n",
        "print(len(encoded_chunks[0]))\n",
        "\n",
        "# Concatenate the encoded chunks into a single byte string\n",
        "encoded_data = bytearray()\n",
        "for encode_chunk in encoded_chunks:\n",
        "  encoded_data.extend(encoded_chunk)\n",
        "print(len(encoded_data))\n",
        "#encoded_data = b''.join(encoded_chunks)\n",
        "\n",
        "# Split the encoded data into m chunks, where the first n chunks are data chunks and the remaining m - n chunks are parity chunks\n",
        "encoded_data_chunks = split_data(encoded_data, chunk_size)\n",
        "print(len(encoded_data_chunks))\n",
        "\n",
        "# Transmit the encoded data chunks over a noisy communication channel\n",
        "\n",
        "# Receive the encoded data chunks\n",
        "\n",
        "# Reassemble the encoded data chunks into a single byte string\n",
        "received_data = b''.join(encoded_data_chunks)\n",
        "\n",
        "# Decode the received data using Reed-Solomon error correction\n",
        "try:\n",
        "    decoded_data = rs.decode(received_data)\n",
        "except ReedSolomonError:\n",
        "    print(\"Unable to decode data\")\n",
        "\n",
        "# Split the decoded data into n original data chunks\n",
        "decoded_data_chunks = split_data(decoded_data, chunk_size)\n",
        "\n",
        "# Write the decoded data to the output file\n",
        "for i, chunk in enumerate(decoded_data_chunks):\n",
        "    with open(f'output_chunk_{i}', 'wb') as f:\n",
        "        f.write(chunk)\n"
      ],
      "metadata": {
        "colab": {
          "base_uri": "https://localhost:8080/",
          "height": 514
        },
        "id": "eB0X_ej4rve5",
        "outputId": "d0861b84-cac0-432a-f365-5e34c91e522f"
      },
      "execution_count": null,
      "outputs": [
        {
          "output_type": "stream",
          "name": "stdout",
          "text": [
            "4\n",
            "263177\n",
            "1052708\n",
            "5\n"
          ]
        },
        {
          "output_type": "error",
          "ename": "NameError",
          "evalue": "ignored",
          "traceback": [
            "\u001b[0;31m---------------------------------------------------------------------------\u001b[0m",
            "\u001b[0;31mReedSolomonError\u001b[0m                          Traceback (most recent call last)",
            "\u001b[0;32m<ipython-input-93-53f2b8bb812c>\u001b[0m in \u001b[0;36m<module>\u001b[0;34m\u001b[0m\n\u001b[1;32m     59\u001b[0m \u001b[0;32mtry\u001b[0m\u001b[0;34m:\u001b[0m\u001b[0;34m\u001b[0m\u001b[0;34m\u001b[0m\u001b[0m\n\u001b[0;32m---> 60\u001b[0;31m     \u001b[0mdecoded_data\u001b[0m \u001b[0;34m=\u001b[0m \u001b[0mrs\u001b[0m\u001b[0;34m.\u001b[0m\u001b[0mdecode\u001b[0m\u001b[0;34m(\u001b[0m\u001b[0mreceived_data\u001b[0m\u001b[0;34m)\u001b[0m\u001b[0;34m\u001b[0m\u001b[0;34m\u001b[0m\u001b[0m\n\u001b[0m\u001b[1;32m     61\u001b[0m \u001b[0;32mexcept\u001b[0m \u001b[0mReedSolomonError\u001b[0m\u001b[0;34m:\u001b[0m\u001b[0;34m\u001b[0m\u001b[0;34m\u001b[0m\u001b[0m\n",
            "\u001b[0;32m/usr/local/lib/python3.9/dist-packages/reedsolo.py\u001b[0m in \u001b[0;36mdecode\u001b[0;34m(self, data, nsym, erase_pos, only_erasures)\u001b[0m\n\u001b[1;32m    928\u001b[0m             \u001b[0;31m# Decode/repair this chunk!\u001b[0m\u001b[0;34m\u001b[0m\u001b[0;34m\u001b[0m\u001b[0m\n\u001b[0;32m--> 929\u001b[0;31m             \u001b[0mrmes\u001b[0m\u001b[0;34m,\u001b[0m \u001b[0mrecc\u001b[0m\u001b[0;34m,\u001b[0m \u001b[0merrata_pos\u001b[0m \u001b[0;34m=\u001b[0m \u001b[0mrs_correct_msg\u001b[0m\u001b[0;34m(\u001b[0m\u001b[0mchunk\u001b[0m\u001b[0;34m,\u001b[0m \u001b[0mnsym\u001b[0m\u001b[0;34m,\u001b[0m \u001b[0mfcr\u001b[0m\u001b[0;34m=\u001b[0m\u001b[0mself\u001b[0m\u001b[0;34m.\u001b[0m\u001b[0mfcr\u001b[0m\u001b[0;34m,\u001b[0m \u001b[0mgenerator\u001b[0m\u001b[0;34m=\u001b[0m\u001b[0mself\u001b[0m\u001b[0;34m.\u001b[0m\u001b[0mgenerator\u001b[0m\u001b[0;34m,\u001b[0m \u001b[0merase_pos\u001b[0m\u001b[0;34m=\u001b[0m\u001b[0me_pos\u001b[0m\u001b[0;34m,\u001b[0m \u001b[0monly_erasures\u001b[0m\u001b[0;34m=\u001b[0m\u001b[0monly_erasures\u001b[0m\u001b[0;34m)\u001b[0m\u001b[0;34m\u001b[0m\u001b[0;34m\u001b[0m\u001b[0m\n\u001b[0m\u001b[1;32m    930\u001b[0m             \u001b[0mdec\u001b[0m\u001b[0;34m.\u001b[0m\u001b[0mextend\u001b[0m\u001b[0;34m(\u001b[0m\u001b[0mrmes\u001b[0m\u001b[0;34m)\u001b[0m\u001b[0;34m\u001b[0m\u001b[0;34m\u001b[0m\u001b[0m\n",
            "\u001b[0;32m/usr/local/lib/python3.9/dist-packages/reedsolo.py\u001b[0m in \u001b[0;36mrs_correct_msg\u001b[0;34m(msg_in, nsym, fcr, generator, erase_pos, only_erasures)\u001b[0m\n\u001b[1;32m    747\u001b[0m         \u001b[0;31m# compute the error locator polynomial using Berlekamp-Massey\u001b[0m\u001b[0;34m\u001b[0m\u001b[0;34m\u001b[0m\u001b[0m\n\u001b[0;32m--> 748\u001b[0;31m         \u001b[0merr_loc\u001b[0m \u001b[0;34m=\u001b[0m \u001b[0mrs_find_error_locator\u001b[0m\u001b[0;34m(\u001b[0m\u001b[0mfsynd\u001b[0m\u001b[0;34m,\u001b[0m \u001b[0mnsym\u001b[0m\u001b[0;34m,\u001b[0m \u001b[0merase_count\u001b[0m\u001b[0;34m=\u001b[0m\u001b[0mlen\u001b[0m\u001b[0;34m(\u001b[0m\u001b[0merase_pos\u001b[0m\u001b[0;34m)\u001b[0m\u001b[0;34m)\u001b[0m\u001b[0;34m\u001b[0m\u001b[0;34m\u001b[0m\u001b[0m\n\u001b[0m\u001b[1;32m    749\u001b[0m         \u001b[0;31m# locate the message errors using Chien search (or bruteforce search)\u001b[0m\u001b[0;34m\u001b[0m\u001b[0;34m\u001b[0m\u001b[0m\n",
            "\u001b[0;32m/usr/local/lib/python3.9/dist-packages/reedsolo.py\u001b[0m in \u001b[0;36mrs_find_error_locator\u001b[0;34m(synd, nsym, erase_loc, erase_count)\u001b[0m\n\u001b[1;32m    660\u001b[0m     \u001b[0;32mif\u001b[0m \u001b[0;34m(\u001b[0m\u001b[0merrs\u001b[0m\u001b[0;34m-\u001b[0m\u001b[0merase_count\u001b[0m\u001b[0;34m)\u001b[0m \u001b[0;34m*\u001b[0m \u001b[0;36m2\u001b[0m \u001b[0;34m+\u001b[0m \u001b[0merase_count\u001b[0m \u001b[0;34m>\u001b[0m \u001b[0mnsym\u001b[0m\u001b[0;34m:\u001b[0m\u001b[0;34m\u001b[0m\u001b[0;34m\u001b[0m\u001b[0m\n\u001b[0;32m--> 661\u001b[0;31m         \u001b[0;32mraise\u001b[0m \u001b[0mReedSolomonError\u001b[0m\u001b[0;34m(\u001b[0m\u001b[0;34m\"Too many errors to correct\"\u001b[0m\u001b[0;34m)\u001b[0m\u001b[0;34m\u001b[0m\u001b[0;34m\u001b[0m\u001b[0m\n\u001b[0m\u001b[1;32m    662\u001b[0m \u001b[0;34m\u001b[0m\u001b[0m\n",
            "\u001b[0;31mReedSolomonError\u001b[0m: Too many errors to correct",
            "\nDuring handling of the above exception, another exception occurred:\n",
            "\u001b[0;31mNameError\u001b[0m                                 Traceback (most recent call last)",
            "\u001b[0;32m<ipython-input-93-53f2b8bb812c>\u001b[0m in \u001b[0;36m<module>\u001b[0;34m\u001b[0m\n\u001b[1;32m     59\u001b[0m \u001b[0;32mtry\u001b[0m\u001b[0;34m:\u001b[0m\u001b[0;34m\u001b[0m\u001b[0;34m\u001b[0m\u001b[0m\n\u001b[1;32m     60\u001b[0m     \u001b[0mdecoded_data\u001b[0m \u001b[0;34m=\u001b[0m \u001b[0mrs\u001b[0m\u001b[0;34m.\u001b[0m\u001b[0mdecode\u001b[0m\u001b[0;34m(\u001b[0m\u001b[0mreceived_data\u001b[0m\u001b[0;34m)\u001b[0m\u001b[0;34m\u001b[0m\u001b[0;34m\u001b[0m\u001b[0m\n\u001b[0;32m---> 61\u001b[0;31m \u001b[0;32mexcept\u001b[0m \u001b[0mReedSolomonError\u001b[0m\u001b[0;34m:\u001b[0m\u001b[0;34m\u001b[0m\u001b[0;34m\u001b[0m\u001b[0m\n\u001b[0m\u001b[1;32m     62\u001b[0m     \u001b[0mprint\u001b[0m\u001b[0;34m(\u001b[0m\u001b[0;34m\"Unable to decode data\"\u001b[0m\u001b[0;34m)\u001b[0m\u001b[0;34m\u001b[0m\u001b[0;34m\u001b[0m\u001b[0m\n\u001b[1;32m     63\u001b[0m \u001b[0;34m\u001b[0m\u001b[0m\n",
            "\u001b[0;31mNameError\u001b[0m: name 'ReedSolomonError' is not defined"
          ]
        }
      ]
    },
    {
      "cell_type": "code",
      "source": [
        "def pad_data(data, block_size):\n",
        "    \"\"\"Pad data to a multiple of block_size bytes using PKCS#7 padding\"\"\"\n",
        "    padding_len = block_size - len(data) % block_size\n",
        "    padding = bytes([padding_len]) * padding_len\n",
        "    return data + padding\n",
        "\n",
        "def unpad_data(data):\n",
        "    \"\"\"Unpad PKCS#7 padded data\"\"\"\n",
        "    padding_len = data[-1]\n",
        "    return data[:-padding_len]\n",
        "\n",
        "def split_data(data, block_size):\n",
        "    \"\"\"Split data into fixed-size blocks\"\"\"\n",
        "    return [data[i:i+block_size] for i in range(0, len(data), block_size)]\n",
        "\n",
        "def bytearray_to_int(bytearray_data):\n",
        "    \"\"\"Convert a bytearray to a list of integers\"\"\"\n",
        "    return [int(x) for x in bytearray_data]\n",
        "\n",
        "def int_to_bytearray(int_data):\n",
        "    \"\"\"Convert a list of integers/bytes to a bytearray\"\"\"\n",
        "    byte_data = bytearray()\n",
        "    for i in int_data:\n",
        "        if isinstance(i, int):\n",
        "            byte_data.append(i % 256)\n",
        "        else:\n",
        "            byte_data.append(i)\n",
        "    return byte_data\n",
        "  \n",
        "def reedsolo_encode(data, ecc_symbols):\n",
        "    # Determine block size based on the number of error correction symbols\n",
        "    block_size = len(data) // (ecc_symbols + 1)\n",
        "\n",
        "    # Initialize Reed-Solomon codec with the specified number of parity symbols\n",
        "    rs = RSCodec(ecc_symbols)\n",
        "\n",
        "    # Encode data using Reed-Solomon error correction with n parity symbols\n",
        "    encoded_data = []\n",
        "\n",
        "    # Encode the data block with Reed-Solomon error correction\n",
        "    encoded_block = rs.encode(pad_data(data, block_size))\n",
        "\n",
        "    # Split the encoded block into data and parity chunks\n",
        "    data_chunks = split_data(encoded_block[:block_size], block_size)\n",
        "    parity_chunks = split_data(encoded_block[block_size:], block_size)\n",
        "\n",
        "    # Add the data and parity chunks to the encoded data list\n",
        "    encoded_data.extend(data_chunks)\n",
        "    encoded_data.extend(parity_chunks)\n",
        "\n",
        "    # Return the encoded data chunks and the size of each chunk\n",
        "    return encoded_data, block_size\n",
        "\n",
        "\n",
        "\n",
        "def reedsolo_decode(encoded_data_chunks, ecc_symbols):\n",
        "    # Determine block size based on the number of error correction symbols\n",
        "    block_size = len(encoded_data_chunks[0])\n",
        "\n",
        "    # Calculate number of data chunks based on the number of parity chunks\n",
        "    data_chunks = ecc_symbols + 1\n",
        "\n",
        "    # Initialize Reed-Solomon codec with the specified number of parity symbols\n",
        "    rs = RSCodec(ecc_symbols)\n",
        "\n",
        "    # Split the encoded data into data and parity chunks\n",
        "    data_chunks_list = encoded_data_chunks[:data_chunks]\n",
        "    parity_chunks_list = encoded_data_chunks[data_chunks:]\n",
        "\n",
        "    print(data_chunks_list)\n",
        "    print(parity_chunks_list)\n",
        "\n",
        "    # Create a list to store the decoded data chunks\n",
        "    decoded_data_chunks = []\n",
        "\n",
        "    # Iterate over the data chunks and attempt to decode them using the parity chunks\n",
        "    for i in range(data_chunks):\n",
        "        # Concatenate the data and parity chunks for this chunk index\n",
        "        parity_chunks = bytearray()\n",
        "        for chunk in parity_chunks_list:\n",
        "          print(chunk)\n",
        "          parity_chunks.extend(chunk)\n",
        "        print(parity_chunks)\n",
        "        #chunk_data = data_chunks_list[i].extend(b''.join([chunk[i] for chunk in parity_chunks_list]))\n",
        "        print(data_chunks_list[i])\n",
        "        chunk_data = data_chunks_list[i].extend(parity_chunks)\n",
        "\n",
        "        print(chunk_data)\n",
        "        \n",
        "        # Attempt to decode the concatenated chunks using Reed-Solomon codes\n",
        "        decoded_chunk = rs.decode(chunk_data)\n",
        "        \n",
        "        # Append the decoded chunk to the list\n",
        "        decoded_data_chunks.append(decoded_chunk)\n",
        "    \n",
        "    # Return the list of decoded data chunks\n",
        "    return decoded_data_chunks\n",
        "\n",
        "\n"
      ],
      "metadata": {
        "id": "JxAXidrYHHvP"
      },
      "execution_count": null,
      "outputs": []
    },
    {
      "cell_type": "code",
      "source": [
        "def test_rs_encode():\n",
        "    data = bytearray(b'This is a test.')\n",
        "    ecc_symbols = 4\n",
        "\n",
        "    encoded_data, chunk_size = reedsolo_encode(data, ecc_symbols)\n",
        "    encoded_data_chunks = split_data(encoded_data, chunk_size)\n",
        "\n",
        "    print(encoded_data)\n",
        "\n",
        "    print(f\"Encoded data chunks: {encoded_data_chunks}\")\n",
        "    print(f\"Chunk size: {chunk_size}\")\n",
        "\n",
        "    data = reedsolo_decode(encoded_data, ecc_symbols)\n",
        "\n",
        "\n",
        "test_rs_encode()\n",
        "  "
      ],
      "metadata": {
        "colab": {
          "base_uri": "https://localhost:8080/",
          "height": 587
        },
        "id": "JXYb6IC9_uzW",
        "outputId": "51449684-cbb0-4faf-84bd-4387448589b7"
      },
      "execution_count": null,
      "outputs": [
        {
          "output_type": "stream",
          "name": "stdout",
          "text": [
            "[bytearray(b'Thi'), bytearray(b's i'), bytearray(b's a'), bytearray(b' te'), bytearray(b'st.'), bytearray(b'\\x03\\x03\\x03'), bytearray(b'\\x94\\x92N'), bytearray(b'\\x0e')]\n",
            "Encoded data chunks: [[bytearray(b'Thi'), bytearray(b's i'), bytearray(b's a')], [bytearray(b' te'), bytearray(b'st.'), bytearray(b'\\x03\\x03\\x03')], [bytearray(b'\\x94\\x92N'), bytearray(b'\\x0e')]]\n",
            "Chunk size: 3\n",
            "[bytearray(b'Thi'), bytearray(b's i'), bytearray(b's a'), bytearray(b' te'), bytearray(b'st.')]\n",
            "[bytearray(b'\\x03\\x03\\x03'), bytearray(b'\\x94\\x92N'), bytearray(b'\\x0e')]\n",
            "bytearray(b'\\x03\\x03\\x03')\n",
            "bytearray(b'\\x94\\x92N')\n",
            "bytearray(b'\\x0e')\n",
            "bytearray(b'\\x03\\x03\\x03\\x94\\x92N\\x0e')\n",
            "bytearray(b'Thi')\n",
            "None\n"
          ]
        },
        {
          "output_type": "error",
          "ename": "TypeError",
          "evalue": "ignored",
          "traceback": [
            "\u001b[0;31m---------------------------------------------------------------------------\u001b[0m",
            "\u001b[0;31mTypeError\u001b[0m                                 Traceback (most recent call last)",
            "\u001b[0;32m<ipython-input-78-7cee572d0b94>\u001b[0m in \u001b[0;36m<module>\u001b[0;34m\u001b[0m\n\u001b[1;32m     14\u001b[0m \u001b[0;34m\u001b[0m\u001b[0m\n\u001b[1;32m     15\u001b[0m \u001b[0;34m\u001b[0m\u001b[0m\n\u001b[0;32m---> 16\u001b[0;31m \u001b[0mtest_rs_encode\u001b[0m\u001b[0;34m(\u001b[0m\u001b[0;34m)\u001b[0m\u001b[0;34m\u001b[0m\u001b[0;34m\u001b[0m\u001b[0m\n\u001b[0m\u001b[1;32m     17\u001b[0m \u001b[0;34m\u001b[0m\u001b[0m\n",
            "\u001b[0;32m<ipython-input-78-7cee572d0b94>\u001b[0m in \u001b[0;36mtest_rs_encode\u001b[0;34m()\u001b[0m\n\u001b[1;32m     11\u001b[0m     \u001b[0mprint\u001b[0m\u001b[0;34m(\u001b[0m\u001b[0;34mf\"Chunk size: {chunk_size}\"\u001b[0m\u001b[0;34m)\u001b[0m\u001b[0;34m\u001b[0m\u001b[0;34m\u001b[0m\u001b[0m\n\u001b[1;32m     12\u001b[0m \u001b[0;34m\u001b[0m\u001b[0m\n\u001b[0;32m---> 13\u001b[0;31m     \u001b[0mdata\u001b[0m \u001b[0;34m=\u001b[0m \u001b[0mreedsolo_decode\u001b[0m\u001b[0;34m(\u001b[0m\u001b[0mencoded_data\u001b[0m\u001b[0;34m,\u001b[0m \u001b[0mecc_symbols\u001b[0m\u001b[0;34m)\u001b[0m\u001b[0;34m\u001b[0m\u001b[0;34m\u001b[0m\u001b[0m\n\u001b[0m\u001b[1;32m     14\u001b[0m \u001b[0;34m\u001b[0m\u001b[0m\n\u001b[1;32m     15\u001b[0m \u001b[0;34m\u001b[0m\u001b[0m\n",
            "\u001b[0;32m<ipython-input-77-7b5682828950>\u001b[0m in \u001b[0;36mreedsolo_decode\u001b[0;34m(encoded_data_chunks, ecc_symbols)\u001b[0m\n\u001b[1;32m     89\u001b[0m \u001b[0;34m\u001b[0m\u001b[0m\n\u001b[1;32m     90\u001b[0m         \u001b[0;31m# Attempt to decode the concatenated chunks using Reed-Solomon codes\u001b[0m\u001b[0;34m\u001b[0m\u001b[0;34m\u001b[0m\u001b[0m\n\u001b[0;32m---> 91\u001b[0;31m         \u001b[0mdecoded_chunk\u001b[0m \u001b[0;34m=\u001b[0m \u001b[0mrs\u001b[0m\u001b[0;34m.\u001b[0m\u001b[0mdecode\u001b[0m\u001b[0;34m(\u001b[0m\u001b[0mchunk_data\u001b[0m\u001b[0;34m)\u001b[0m\u001b[0;34m\u001b[0m\u001b[0;34m\u001b[0m\u001b[0m\n\u001b[0m\u001b[1;32m     92\u001b[0m \u001b[0;34m\u001b[0m\u001b[0m\n\u001b[1;32m     93\u001b[0m         \u001b[0;31m# Append the decoded chunk to the list\u001b[0m\u001b[0;34m\u001b[0m\u001b[0;34m\u001b[0m\u001b[0m\n",
            "\u001b[0;32m/usr/local/lib/python3.9/dist-packages/reedsolo.py\u001b[0m in \u001b[0;36mdecode\u001b[0;34m(self, data, nsym, erase_pos, only_erasures)\u001b[0m\n\u001b[1;32m    918\u001b[0m         \u001b[0mdec_full\u001b[0m \u001b[0;34m=\u001b[0m \u001b[0m_bytearray\u001b[0m\u001b[0;34m(\u001b[0m\u001b[0;34m)\u001b[0m\u001b[0;34m\u001b[0m\u001b[0;34m\u001b[0m\u001b[0m\n\u001b[1;32m    919\u001b[0m         \u001b[0merrata_pos_all\u001b[0m \u001b[0;34m=\u001b[0m \u001b[0m_bytearray\u001b[0m\u001b[0;34m(\u001b[0m\u001b[0;34m)\u001b[0m\u001b[0;34m\u001b[0m\u001b[0;34m\u001b[0m\u001b[0m\n\u001b[0;32m--> 920\u001b[0;31m         \u001b[0;32mfor\u001b[0m \u001b[0mchunk\u001b[0m \u001b[0;32min\u001b[0m \u001b[0mself\u001b[0m\u001b[0;34m.\u001b[0m\u001b[0mchunk\u001b[0m\u001b[0;34m(\u001b[0m\u001b[0mdata\u001b[0m\u001b[0;34m,\u001b[0m \u001b[0mself\u001b[0m\u001b[0;34m.\u001b[0m\u001b[0mnsize\u001b[0m\u001b[0;34m)\u001b[0m\u001b[0;34m:\u001b[0m\u001b[0;34m\u001b[0m\u001b[0;34m\u001b[0m\u001b[0m\n\u001b[0m\u001b[1;32m    921\u001b[0m             \u001b[0;31m# Extract the erasures for this chunk\u001b[0m\u001b[0;34m\u001b[0m\u001b[0;34m\u001b[0m\u001b[0m\n\u001b[1;32m    922\u001b[0m             \u001b[0me_pos\u001b[0m \u001b[0;34m=\u001b[0m \u001b[0;34m[\u001b[0m\u001b[0;34m]\u001b[0m\u001b[0;34m\u001b[0m\u001b[0;34m\u001b[0m\u001b[0m\n",
            "\u001b[0;32m/usr/local/lib/python3.9/dist-packages/reedsolo.py\u001b[0m in \u001b[0;36mchunk\u001b[0;34m(self, data, chunksize)\u001b[0m\n\u001b[1;32m    878\u001b[0m     \u001b[0;32mdef\u001b[0m \u001b[0mchunk\u001b[0m\u001b[0;34m(\u001b[0m\u001b[0mself\u001b[0m\u001b[0;34m,\u001b[0m \u001b[0mdata\u001b[0m\u001b[0;34m,\u001b[0m \u001b[0mchunksize\u001b[0m\u001b[0;34m)\u001b[0m\u001b[0;34m:\u001b[0m\u001b[0;34m\u001b[0m\u001b[0;34m\u001b[0m\u001b[0m\n\u001b[1;32m    879\u001b[0m         \u001b[0;34m'''Split a long message into chunks'''\u001b[0m\u001b[0;34m\u001b[0m\u001b[0;34m\u001b[0m\u001b[0m\n\u001b[0;32m--> 880\u001b[0;31m         \u001b[0;32mfor\u001b[0m \u001b[0mi\u001b[0m \u001b[0;32min\u001b[0m \u001b[0mxrange\u001b[0m\u001b[0;34m(\u001b[0m\u001b[0;36m0\u001b[0m\u001b[0;34m,\u001b[0m \u001b[0mlen\u001b[0m\u001b[0;34m(\u001b[0m\u001b[0mdata\u001b[0m\u001b[0;34m)\u001b[0m\u001b[0;34m,\u001b[0m \u001b[0mchunksize\u001b[0m\u001b[0;34m)\u001b[0m\u001b[0;34m:\u001b[0m\u001b[0;34m\u001b[0m\u001b[0;34m\u001b[0m\u001b[0m\n\u001b[0m\u001b[1;32m    881\u001b[0m             \u001b[0;31m# Split the long message in a chunk\u001b[0m\u001b[0;34m\u001b[0m\u001b[0;34m\u001b[0m\u001b[0m\n\u001b[1;32m    882\u001b[0m             \u001b[0mchunk\u001b[0m \u001b[0;34m=\u001b[0m \u001b[0mdata\u001b[0m\u001b[0;34m[\u001b[0m\u001b[0mi\u001b[0m\u001b[0;34m:\u001b[0m\u001b[0mi\u001b[0m\u001b[0;34m+\u001b[0m\u001b[0mchunksize\u001b[0m\u001b[0;34m]\u001b[0m\u001b[0;34m\u001b[0m\u001b[0;34m\u001b[0m\u001b[0m\n",
            "\u001b[0;31mTypeError\u001b[0m: object of type 'NoneType' has no len()"
          ]
        }
      ]
    },
    {
      "cell_type": "code",
      "source": [
        "def split(self, fileBytearray, chunkSize):\n",
        "    \"\"\"\n",
        "    Padding\n",
        "    Chunks (List[bytearray]), each chunk has length = chunksize\n",
        "    \"\"\"\n",
        "    chunk_list = [ bytearray(fileBytearray[i:i+chunkSize])for i in range(0, len(fileBytearray), chunkSize)]\n",
        "    if chunk_list:\n",
        "        remain_bytes = chunkSize-len(chunk_list[-1])\n",
        "        chunk_list[-1].extend(bytearray(remain_bytes))\n",
        "    return chunk_list\n"
      ],
      "metadata": {
        "id": "2LYeQ_S-h5kx"
      },
      "execution_count": null,
      "outputs": []
    },
    {
      "cell_type": "code",
      "source": [
        "def combine(self, chunkList):\n",
        "    \"\"\"\n",
        "    strip end 0s\n",
        "    chunkList (List[bytearray]+padding) --> data (bytearray)\n",
        "    \"\"\"\n",
        "    data = bytearray()\n",
        "    for chunk in chunkList:\n",
        "        data.extend(chunk)\n",
        "    data = data.rstrip(b'\\x00')\n",
        "    return data\n"
      ],
      "metadata": {
        "id": "O0JiVTXyh9zf"
      },
      "execution_count": null,
      "outputs": []
    },
    {
      "cell_type": "code",
      "source": [
        "class file_handler():\n",
        "\n",
        "  def __init__(self):\n",
        "    pass\n",
        "\n",
        "  def uploader_helper(self, file_content, sender_sk, receiver_pk,chunkSize=262144):\n",
        "    \"\"\"\n",
        "    Parameters:\n",
        "      file_content : bytearray\n",
        "      sender_sk\n",
        "      receiver_pk\n",
        "      chunkSize: 262144 (256 KB) # you can also modify it\n",
        "    \"\"\"\n",
        "    #1. generate shared secret between the sender and the receiver\n",
        "    shared_secret = gen_shared_secret(sender_sk, receiver_pk)\n",
        "    #2. obtain the encryption key and the mac key\n",
        "    enc_key, mac_key = gen_aes_mac_key(shared_secret)\n",
        "    #3. split the data into chunks\n",
        "    chunk_list = split(file_content, chunkSize)\n",
        "    #4. encrypt the file content using the encryption key\n",
        "    enc_data_list = [aes_enc(chunk, enc_key) for chunk in chunk_list]\n",
        "    #5. redundancy || NOT COMPLETE\n",
        "    rs_data_list = enc_data_list\n",
        "    #6. generate mac tag for each of the data chunk\n",
        "    mac_tag_list = [gen_mac_tag(chunk, mac_key) for chunk in rs_data_list]\n",
        "    return (rs_data_list, mac_tag_list)\n",
        "\n",
        "  def downloader_helper(self, rs_data_list, mac_tag_list, receiver_sk, sender_pk, chunkSize = 262144):\n",
        "    \"\"\"\n",
        "    Parameters:\n",
        "      rs_data_list\n",
        "      mac_tag_list\n",
        "      receiver_sk\n",
        "      sender_pk\n",
        "      chunkSize: 262144 (256 KB) # you can also modify it\n",
        "    Returns:\n",
        "      recovered_content: bytearray\n",
        "    \"\"\"\n",
        "    #1. generate shared secret between the sender and the receiver\n",
        "    shared_secret = gen_shared_secret(receiver_sk, sender_pk)\n",
        "    #2. obtain the encryption key and the mac key\n",
        "    enc_key, mac_key = gen_aes_mac_key(shared_secret)\n",
        "    #3. check message integrity\n",
        "    for i in range(len(rs_data_list)):\n",
        "      rs_data_chunk = rs_data_list[i]\n",
        "      mac_tag = mac_tag_list[i]\n",
        "      verif_flag = ver_mac_tag(rs_data_chunk, mac_tag, mac_key)\n",
        "      if not verif_flag:\n",
        "        print(\"block {} has been tampered\", i)\n",
        "    #4. recover using reedsolomon redundancy method || NOT complete\n",
        "    enc_data_list = rs_data_list\n",
        "    #5. decrypt the file chunk using the symmetric encryption key\n",
        "    data_list = [aes_dec(chunk, enc_key) for chunk in enc_data_list]\n",
        "    #6. combine the data_list\n",
        "    recovered_content = combine(data_list)\n",
        "\n"
      ],
      "metadata": {
        "id": "fJ6s_0xEiHzf"
      },
      "execution_count": null,
      "outputs": []
    },
    {
      "cell_type": "code",
      "source": [
        "def test():\n",
        "  ##---------------- neo given\n",
        "  public_addr_1 = \"0xD4cdE7b7480CC3228D3725FB1b8D8d4226267bA3\"\n",
        "  private_key_1 = \"0x7004f17e0cab05642f36e8ddb30b778c4ba5b6d2bc2a17338aaff3b26c55e241\"\n",
        "  public_key_1 = \"0x47d9eab50b1eabd3f493e807ba3ff22f387dcf146430e31f42c98b7ec7fbc9a40eef2080249846ca63521da29f0bcaa2049a0105cbd865d91973059a10d00daa\"\n",
        "  ##---------------- neo given \n",
        "  public_addr_2 =  \"0x290FABa2538A49e641e92f330CCA5afc1Ff2076C\"\n",
        "  private_key_2 =  \"0xb6c5753277f0f69e8f66196293772ce624d90a58edbfd9275ec426744ecd2dcf\"           \n",
        "  public_key_2 = \"0xa4c6fcffb1411ba3c5335f9971114603d4c58f3b53e149f1a78128de50f475f2a2b22b780c9a94c83e4de662f54fd826a239633a0e3cb0c4537f591a70a386c0\"\n",
        "  ##---------------- neo given\n",
        "  public_addr_3 = \"0x58148928Cc24aA0f4025F171cDF958eA24143211\"\n",
        "  private_key_3 = \"0x4a561ed4832e2787355f63010ffa05453bf190b7f50b5aa8d01433a6a4fbe67a\"\n",
        "  public_key_3 = \"0x583f3823024eff1d6c19cd93a4b8fb48a3bd2d8e868ddcc26ffa99553046bbf77eb1fdb85d463b73d639ad395c7c7307d29510c1781032ef450c739d8415b1cc\"\n",
        "  ##---------------- yoyo generate\n",
        "  public_addr_4 =\"0x28AbB50DdB82da709E2e47Eef2ECAdAC5e230e83\"\n",
        "  private_key_4 = \"0x3077020101042085af18963da3c5ae8e1b3f5315769048a1dd604968a3605fb9\"\n",
        "  public_key_4 =\"0xaf1e8c0521f5bc7ce85a3b4c2e312cc2458b62db3f0a7660c285abaa77dc09d4d83a34074648e077ad9f1f217ce23921c47e5e0d7920ef6d5087f9a9bdb6fd59\"\n",
        "  \n",
        "  ##---------------- \n",
        "  ##test for varification of ethereum key pair\n",
        "  varify_eth_keypair(private_key_4, public_addr_4)\n",
        "  ##----------------\n",
        "  ##test for shared\n",
        "  test_shared_secret(public_key_3[2:], private_key_3[2:], public_key_2[2:], private_key_2[2:])\n",
        "  test_shared_secret(public_key_3[2:], private_key_3[2:], public_key_1[2:], private_key_1[2:])\n",
        "  ##----------------\n",
        "  ##verify that the shared secret is 32 bytes\n",
        "  shared_secret_23 = gen_shared_secret(private_key_2[2:],public_key_3[2:])\n",
        "  print(\"the length of the shared secret between the sender 2 and the receiver 3 is\", len(shared_secret_23))\n",
        "  ##----------------\n",
        "  ##verify that the aes key and the mac key is 32 bytes\n",
        "  aes_key, mac_key = gen_aes_mac_key(shared_secret_23)\n",
        "  print(\"the length of the aes key should be 32 bytes, in this test:\", len(aes_key))\n",
        "  print(\"the length of the mac key should be 32 bytes, in this test:\", len(mac_key))\n",
        "  ##----------------\n",
        "  ##verify that the encryption/decryptin using an symmetric aes key is correct\n",
        "  data_chunk = b'This is a sample data chunk that will be encrypted and decrypted using AES in CBC mode with PKCS#7 padding.'\n",
        "  test_aes_encryption(data_chunk, aes_key)\n",
        "  enc_chunk = aes_enc(data_chunk, aes_key)\n",
        "  ##----------------\n",
        "  ##verify that the generation and verification of the mac key is consistent\n",
        "  test_mac(enc_chunk, mac_key)\n",
        "  ##----------------\n",
        "  ##reed-solomon redundancy\n"
      ],
      "metadata": {
        "id": "B2R4g35lu3cD"
      },
      "execution_count": null,
      "outputs": []
    },
    {
      "cell_type": "code",
      "source": [
        "test()"
      ],
      "metadata": {
        "colab": {
          "base_uri": "https://localhost:8080/"
        },
        "id": "x5KoZenIvVMe",
        "outputId": "624879f7-74fb-4489-b98e-c2dc4098c996"
      },
      "execution_count": null,
      "outputs": [
        {
          "output_type": "stream",
          "name": "stdout",
          "text": [
            "True\n",
            "True\n",
            "True\n",
            "the length of the shared secret between the sender 2 and the receiver 3 is 32\n",
            "the length of the aes key should be 32 bytes, in this test: 32\n",
            "the length of the mac key should be 32 bytes, in this test: 32\n",
            "True\n",
            "True\n"
          ]
        }
      ]
    }
  ]
}